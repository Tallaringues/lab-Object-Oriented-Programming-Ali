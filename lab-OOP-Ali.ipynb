{
 "cells": [
  {
   "attachments": {},
   "cell_type": "markdown",
   "metadata": {},
   "source": [
    "# Lab | Object Oriented Programming\n",
    "\n",
    "## Introduction\n",
    "\n",
    "In this lab you have to implement a Python class for a TV.\n",
    "\n",
    "## Constructor\n",
    "\n",
    "Crete a Python Tv class with a constructor and the following attributes:\n",
    "\n",
    "* .on (Boolean)\n",
    "* .volume (float in [0,100])\n",
    "* .active_channel (int in [1,10])\n",
    "* .input (str in [\"Anthena\", \"HDMI1\", \"HDMI2\", \"HDMI3\"])\n",
    "* .size (float in [42, 50, 55, 65, 75])\n",
    "\n",
    "## Methods\n",
    "\n",
    "* .switch_on()\n",
    "* .switch_off()\n",
    "* .set_volume(volume: int)\n",
    "* .change_channel(channel: int)\n",
    "* .set_input(value: str)"
   ]
  },
  {
   "cell_type": "code",
   "execution_count": 38,
   "metadata": {},
   "outputs": [],
   "source": [
    "class Tv:\n",
    "    '''\n",
    "    Class Tv\n",
    "    input -> size: 42, 50, 55, 65, 75\n",
    "        on: True/False\n",
    "        volume: 0-100\n",
    "        active channel: 1-10\n",
    "        input: \"Anthena\", \"HDMI1\", \"HDMI2\", \"HDMI3\"\n",
    "    '''\n",
    "    def __init__(self, size, on = False, volume = 50.0, active_channel = 1, input = 'Antena'):\n",
    "              \n",
    "        self.size = size\n",
    "        self.on = on\n",
    "        self.volume = volume\n",
    "        self.active_channel = active_channel\n",
    "        self.input = input\n",
    "\n",
    "        valid_sizes = [42, 50, 55, 65, 75]\n",
    "        if size not in valid_sizes:\n",
    "            raise ValueError(\"Invalid size value. Available sizes are 42, 50, 55, 65, 75.\")\n",
    "\n",
    "    def switch_on(self):\n",
    "        self.on = True\n",
    "\n",
    "    def switch_off(self):\n",
    "        self.on = False # this function is connected to the previous one - and both to the attribute 'on'\n",
    "\n",
    "    def set_volume(self, volume):\n",
    "        if 0 <= volume <= 100:\n",
    "            self.volume = float(volume)\n",
    "        else:\n",
    "            raise ValueError(\"Invalid volume value. Volume should be between 0 and 100.\")\n",
    "\n",
    "    def change_channel(self, channel):\n",
    "        if 1 <= channel <= 10:\n",
    "            self.active_channel = channel\n",
    "        else:\n",
    "            raise ValueError(\"Invalid channel value. Channel should be between 1 and 10.\")\n",
    "\n",
    "    def set_input(self, value):\n",
    "        valid_inputs = [\"Anthena\", \"HDMI1\", \"HDMI2\", \"HDMI3\"]\n",
    "        if value in valid_inputs:\n",
    "            self.input = value\n",
    "        else:\n",
    "            raise ValueError(\"Invalid input value. Available inputs are Anthena, HDMI1, HDMI2, HDMI3.\")\n"
   ]
  },
  {
   "cell_type": "code",
   "execution_count": 17,
   "metadata": {},
   "outputs": [],
   "source": [
    "tv1 = Tv(55, volume=75)\n",
    "tv2 = Tv(65, input='HDMI1')\n",
    "tv3 = Tv(75, on=False, active_channel=9)"
   ]
  },
  {
   "cell_type": "code",
   "execution_count": 16,
   "metadata": {},
   "outputs": [
    {
     "data": {
      "text/plain": [
       "{'size': 65.0,\n",
       " 'on': False,\n",
       " 'volume': 50.0,\n",
       " 'active_channel': 1,\n",
       " 'input': 'HDMI1'}"
      ]
     },
     "execution_count": 16,
     "metadata": {},
     "output_type": "execute_result"
    }
   ],
   "source": [
    "tv2.__dict__"
   ]
  },
  {
   "cell_type": "code",
   "execution_count": 22,
   "metadata": {},
   "outputs": [],
   "source": [
    "tv3.set_input(\"HDMI3\")"
   ]
  },
  {
   "cell_type": "code",
   "execution_count": 23,
   "metadata": {},
   "outputs": [],
   "source": [
    "tv_dict = {'TV': ['tv1', 'tv2', 'tv3'], 'size': [tv1.size, tv2.size, tv3.size], 'volume': [tv1.volume, tv2.volume, tv3.volume], \n",
    "            'on': [tv1.on, tv2.on, tv3.on], 'channel': [tv1.active_channel, tv2.active_channel, tv3.active_channel], \n",
    "            'input': [tv1.input, tv2.input, tv3.input]}"
   ]
  },
  {
   "cell_type": "code",
   "execution_count": 24,
   "metadata": {},
   "outputs": [
    {
     "data": {
      "text/html": [
       "<div>\n",
       "<style scoped>\n",
       "    .dataframe tbody tr th:only-of-type {\n",
       "        vertical-align: middle;\n",
       "    }\n",
       "\n",
       "    .dataframe tbody tr th {\n",
       "        vertical-align: top;\n",
       "    }\n",
       "\n",
       "    .dataframe thead th {\n",
       "        text-align: right;\n",
       "    }\n",
       "</style>\n",
       "<table border=\"1\" class=\"dataframe\">\n",
       "  <thead>\n",
       "    <tr style=\"text-align: right;\">\n",
       "      <th></th>\n",
       "      <th>TV</th>\n",
       "      <th>size</th>\n",
       "      <th>volume</th>\n",
       "      <th>on</th>\n",
       "      <th>channel</th>\n",
       "      <th>input</th>\n",
       "    </tr>\n",
       "  </thead>\n",
       "  <tbody>\n",
       "    <tr>\n",
       "      <th>0</th>\n",
       "      <td>tv1</td>\n",
       "      <td>55.0</td>\n",
       "      <td>75.0</td>\n",
       "      <td>False</td>\n",
       "      <td>1</td>\n",
       "      <td>Antena</td>\n",
       "    </tr>\n",
       "    <tr>\n",
       "      <th>1</th>\n",
       "      <td>tv2</td>\n",
       "      <td>65.0</td>\n",
       "      <td>50.0</td>\n",
       "      <td>False</td>\n",
       "      <td>1</td>\n",
       "      <td>HDMI1</td>\n",
       "    </tr>\n",
       "    <tr>\n",
       "      <th>2</th>\n",
       "      <td>tv3</td>\n",
       "      <td>75.0</td>\n",
       "      <td>50.0</td>\n",
       "      <td>False</td>\n",
       "      <td>9</td>\n",
       "      <td>HDMI3</td>\n",
       "    </tr>\n",
       "  </tbody>\n",
       "</table>\n",
       "</div>"
      ],
      "text/plain": [
       "    TV  size  volume     on  channel   input\n",
       "0  tv1  55.0    75.0  False        1  Antena\n",
       "1  tv2  65.0    50.0  False        1   HDMI1\n",
       "2  tv3  75.0    50.0  False        9   HDMI3"
      ]
     },
     "execution_count": 24,
     "metadata": {},
     "output_type": "execute_result"
    }
   ],
   "source": [
    "import pandas as pd\n",
    "pd.DataFrame(tv_dict)"
   ]
  },
  {
   "cell_type": "code",
   "execution_count": 30,
   "metadata": {},
   "outputs": [],
   "source": [
    "tv4 = Tv(65)"
   ]
  },
  {
   "cell_type": "code",
   "execution_count": 33,
   "metadata": {},
   "outputs": [
    {
     "data": {
      "text/plain": [
       "{'size': 65,\n",
       " 'on': False,\n",
       " 'volume': 50.0,\n",
       " 'active_channel': 1,\n",
       " 'input': 'Antena'}"
      ]
     },
     "execution_count": 33,
     "metadata": {},
     "output_type": "execute_result"
    }
   ],
   "source": [
    "# switch off the TV\n",
    "tv4.switch_off()\n",
    "tv4.__dict__"
   ]
  },
  {
   "cell_type": "code",
   "execution_count": 28,
   "metadata": {},
   "outputs": [
    {
     "ename": "ValueError",
     "evalue": "Invalid size value. Available sizes are 42, 50, 55, 65, 75.",
     "output_type": "error",
     "traceback": [
      "\u001b[1;31m---------------------------------------------------------------------------\u001b[0m",
      "\u001b[1;31mValueError\u001b[0m                                Traceback (most recent call last)",
      "\u001b[1;32m~\\AppData\\Local\\Temp\\ipykernel_1988\\41298600.py\u001b[0m in \u001b[0;36m<module>\u001b[1;34m\u001b[0m\n\u001b[1;32m----> 1\u001b[1;33m \u001b[0mtv4\u001b[0m \u001b[1;33m=\u001b[0m \u001b[0mTv\u001b[0m\u001b[1;33m(\u001b[0m\u001b[1;36m100\u001b[0m\u001b[1;33m)\u001b[0m\u001b[1;33m\u001b[0m\u001b[1;33m\u001b[0m\u001b[0m\n\u001b[0m",
      "\u001b[1;32m~\\AppData\\Local\\Temp\\ipykernel_1988\\3101476009.py\u001b[0m in \u001b[0;36m__init__\u001b[1;34m(self, size, on, volume, active_channel, input)\u001b[0m\n\u001b[0;32m     13\u001b[0m         \u001b[0mvalid_sizes\u001b[0m \u001b[1;33m=\u001b[0m \u001b[1;33m[\u001b[0m\u001b[1;36m42\u001b[0m\u001b[1;33m,\u001b[0m \u001b[1;36m50\u001b[0m\u001b[1;33m,\u001b[0m \u001b[1;36m55\u001b[0m\u001b[1;33m,\u001b[0m \u001b[1;36m65\u001b[0m\u001b[1;33m,\u001b[0m \u001b[1;36m75\u001b[0m\u001b[1;33m]\u001b[0m\u001b[1;33m\u001b[0m\u001b[1;33m\u001b[0m\u001b[0m\n\u001b[0;32m     14\u001b[0m         \u001b[1;32mif\u001b[0m \u001b[0msize\u001b[0m \u001b[1;32mnot\u001b[0m \u001b[1;32min\u001b[0m \u001b[0mvalid_sizes\u001b[0m\u001b[1;33m:\u001b[0m\u001b[1;33m\u001b[0m\u001b[1;33m\u001b[0m\u001b[0m\n\u001b[1;32m---> 15\u001b[1;33m             \u001b[1;32mraise\u001b[0m \u001b[0mValueError\u001b[0m\u001b[1;33m(\u001b[0m\u001b[1;34m\"Invalid size value. Available sizes are 42, 50, 55, 65, 75.\"\u001b[0m\u001b[1;33m)\u001b[0m\u001b[1;33m\u001b[0m\u001b[1;33m\u001b[0m\u001b[0m\n\u001b[0m\u001b[0;32m     16\u001b[0m \u001b[1;33m\u001b[0m\u001b[0m\n\u001b[0;32m     17\u001b[0m     \u001b[1;32mdef\u001b[0m \u001b[0mswitch_on\u001b[0m\u001b[1;33m(\u001b[0m\u001b[0mself\u001b[0m\u001b[1;33m)\u001b[0m\u001b[1;33m:\u001b[0m\u001b[1;33m\u001b[0m\u001b[1;33m\u001b[0m\u001b[0m\n",
      "\u001b[1;31mValueError\u001b[0m: Invalid size value. Available sizes are 42, 50, 55, 65, 75."
     ]
    }
   ],
   "source": [
    "# test for wrong size\n",
    "tv5 = Tv(100)"
   ]
  }
 ],
 "metadata": {
  "kernelspec": {
   "display_name": "base",
   "language": "python",
   "name": "python3"
  },
  "language_info": {
   "codemirror_mode": {
    "name": "ipython",
    "version": 3
   },
   "file_extension": ".py",
   "mimetype": "text/x-python",
   "name": "python",
   "nbconvert_exporter": "python",
   "pygments_lexer": "ipython3",
   "version": "3.9.13"
  },
  "orig_nbformat": 4
 },
 "nbformat": 4,
 "nbformat_minor": 2
}
